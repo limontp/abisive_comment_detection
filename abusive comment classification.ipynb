{
 "cells": [
  {
   "cell_type": "markdown",
   "metadata": {},
   "source": [
    "## Importing library"
   ]
  },
  {
   "cell_type": "code",
   "execution_count": 1,
   "metadata": {},
   "outputs": [],
   "source": [
    "import pandas as pd\n",
    "import numpy as np\n",
    "import matplotlib.pyplot as plt\n",
    "from sklearn.feature_extraction.text import CountVectorizer\n",
    "from sklearn.metrics import confusion_matrix, accuracy_score\n",
    "import pickle\n",
    "\n",
    "%matplotlib inline"
   ]
  },
  {
   "cell_type": "markdown",
   "metadata": {},
   "source": [
    "## Reading dataset\n",
    "dataset18000.txt files contains the actual facebook comments  \n",
    "dataResult.txt files contains correspoding comment label  "
   ]
  },
  {
   "cell_type": "code",
   "execution_count": 2,
   "metadata": {},
   "outputs": [
    {
     "data": {
      "text/html": [
       "<div>\n",
       "<style scoped>\n",
       "    .dataframe tbody tr th:only-of-type {\n",
       "        vertical-align: middle;\n",
       "    }\n",
       "\n",
       "    .dataframe tbody tr th {\n",
       "        vertical-align: top;\n",
       "    }\n",
       "\n",
       "    .dataframe thead th {\n",
       "        text-align: right;\n",
       "    }\n",
       "</style>\n",
       "<table border=\"1\" class=\"dataframe\">\n",
       "  <thead>\n",
       "    <tr style=\"text-align: right;\">\n",
       "      <th></th>\n",
       "      <th>comment</th>\n",
       "      <th>label</th>\n",
       "    </tr>\n",
       "  </thead>\n",
       "  <tbody>\n",
       "    <tr>\n",
       "      <th>20209</th>\n",
       "      <td>লসের সম্ভাবনা নাই</td>\n",
       "      <td>0</td>\n",
       "    </tr>\n",
       "    <tr>\n",
       "      <th>20210</th>\n",
       "      <td>হিন্দুদের কাছে শয়তানও হার মানে তারা হলো শয়তানে...</td>\n",
       "      <td>3</td>\n",
       "    </tr>\n",
       "    <tr>\n",
       "      <th>20211</th>\n",
       "      <td>আমার তো তোমারেই মনে পড়ে</td>\n",
       "      <td>0</td>\n",
       "    </tr>\n",
       "    <tr>\n",
       "      <th>20212</th>\n",
       "      <td>কোপালে জেয় কোন টিপ দেওয়া হারাম।</td>\n",
       "      <td>2</td>\n",
       "    </tr>\n",
       "    <tr>\n",
       "      <th>20213</th>\n",
       "      <td>অনেক সুনদর</td>\n",
       "      <td>0</td>\n",
       "    </tr>\n",
       "  </tbody>\n",
       "</table>\n",
       "</div>"
      ],
      "text/plain": [
       "                                                 comment  label\n",
       "20209                                  লসের সম্ভাবনা নাই      0\n",
       "20210  হিন্দুদের কাছে শয়তানও হার মানে তারা হলো শয়তানে...      3\n",
       "20211                           আমার তো তোমারেই মনে পড়ে      0\n",
       "20212                    কোপালে জেয় কোন টিপ দেওয়া হারাম।      2\n",
       "20213                                         অনেক সুনদর      0"
      ]
     },
     "execution_count": 2,
     "metadata": {},
     "output_type": "execute_result"
    }
   ],
   "source": [
    "comments = open('dataset18000.txt', encoding='utf-8').readlines()\n",
    "label = open('dataResult.txt').readlines()\n",
    "\n",
    "data = pd.DataFrame({'comment': comments, 'label': label})\n",
    "data.comment = data.comment.apply(lambda x: x.strip())\n",
    "data.label = data.label.apply(lambda x: int(x.strip()))\n",
    "data.label = data.label.astype('int32')\n",
    "\n",
    "n_data = pd.read_csv('new_data.csv')\n",
    "data = data.append(n_data, ignore_index=True)\n",
    "data.tail()"
   ]
  },
  {
   "cell_type": "markdown",
   "metadata": {},
   "source": [
    "## Number of comments against each category"
   ]
  },
  {
   "cell_type": "code",
   "execution_count": 3,
   "metadata": {},
   "outputs": [
    {
     "data": {
      "image/png": "[encoded data removed]",
      "text/plain": [
       "<Figure size 720x432 with 1 Axes>"
      ]
     },
     "metadata": {
      "needs_background": "light"
     },
     "output_type": "display_data"
    }
   ],
   "source": [
    "N = 5\n",
    "freq = data.label.value_counts()\n",
    "freqs = [freq[x] for x in range(5)]\n",
    "ind = np.arange(N)\n",
    "\n",
    "plt.figure(figsize=(10,6))\n",
    "plt.title('Distribution of data against classes')\n",
    "plt.ylabel('Number of comments')\n",
    "plt.bar(ind, freqs, tick_label=['Positive', 'Sexual Harassment', 'CyberBully', 'Religious Extremism', 'Political'])\n",
    "for index, countData in enumerate(freqs):\n",
    "    plt.text(x=index , y=countData+2, s=f\"{round(countData, 2)}\", fontdict=dict(fontsize=16))\n",
    "plt.tight_layout()\n",
    "plt.show()"
   ]
  },
  {
   "cell_type": "markdown",
   "metadata": {},
   "source": [
    "## Use CountVectorizer for counting the n-gram frequency"
   ]
  },
  {
   "cell_type": "code",
   "execution_count": 4,
   "metadata": {},
   "outputs": [
    {
     "name": "stdout",
     "output_type": "stream",
     "text": [
      "(20214, 72716) (20214,)\n"
     ]
    }
   ],
   "source": [
    "vec = CountVectorizer(ngram_range=(1, 3))\n",
    "vec.fit(data.comment.values)\n",
    "\n",
    "X = vec.transform(data.comment.values)\n",
    "y = data.label.values\n",
    "print(X.shape, y.shape)"
   ]
  },
  {
   "cell_type": "markdown",
   "metadata": {},
   "source": [
    "## Splittig train and test data. Uses 75% data for training and 25% for testing"
   ]
  },
  {
   "cell_type": "code",
   "execution_count": 5,
   "metadata": {},
   "outputs": [
    {
     "name": "stdout",
     "output_type": "stream",
     "text": [
      "(15160, 72716) (5054, 72716)\n"
     ]
    }
   ],
   "source": [
    "from sklearn.model_selection import train_test_split\n",
    "X_train, X_test, y_train, y_test = train_test_split(X, y, test_size=0.25, random_state=42)\n",
    "print(X_train.shape, X_test.shape)"
   ]
  },
  {
   "cell_type": "markdown",
   "metadata": {},
   "source": [
    "## Naive bayes"
   ]
  },
  {
   "cell_type": "code",
   "execution_count": 6,
   "metadata": {},
   "outputs": [
    {
     "name": "stdout",
     "output_type": "stream",
     "text": [
      "Accuracy: 0.7324891175306688\n",
      "Confusion Matrix:\n",
      "[[1508   26  111   40   37]\n",
      " [ 309  284   83   28   28]\n",
      " [ 384   40  394   47   30]\n",
      " [  69    4    6  730   19]\n",
      " [  31    5   11   44  786]]\n"
     ]
    }
   ],
   "source": [
    "from sklearn.naive_bayes import MultinomialNB\n",
    "\n",
    "accs = []\n",
    "clf = MultinomialNB()\n",
    "clf.fit(X_train, y_train)\n",
    "pred = clf.predict(X_test)\n",
    "\n",
    "acc = accuracy_score(y_test, pred)\n",
    "cnf = confusion_matrix(y_test, pred)\n",
    "accs.append(acc)\n",
    "print('Accuracy:', acc)\n",
    "print('Confusion Matrix:')\n",
    "print(cnf)"
   ]
  },
  {
   "cell_type": "markdown",
   "metadata": {},
   "source": [
    "## Logistic Regression"
   ]
  },
  {
   "cell_type": "code",
   "execution_count": 7,
   "metadata": {},
   "outputs": [
    {
     "name": "stdout",
     "output_type": "stream",
     "text": [
      "Accuracy: 0.7574198654531065\n",
      "Confusion Matrix:\n",
      "[[1508   51  126   25   12]\n",
      " [ 261  344  102   15   10]\n",
      " [ 342   65  462   13   13]\n",
      " [  63    7   12  745    1]\n",
      " [  62    8   12   26  769]]\n"
     ]
    }
   ],
   "source": [
    "from sklearn.linear_model import LogisticRegression\n",
    "\n",
    "clf = LogisticRegression(max_iter=1000)\n",
    "clf.fit(X_train, y_train)\n",
    "pred = clf.predict(X_test)\n",
    "\n",
    "acc = accuracy_score(y_test, pred)\n",
    "cnf = confusion_matrix(y_test, pred)\n",
    "accs.append(acc)\n",
    "print('Accuracy:', acc)\n",
    "print('Confusion Matrix:')\n",
    "print(cnf)"
   ]
  },
  {
   "cell_type": "markdown",
   "metadata": {},
   "source": [
    "## Support vector machine"
   ]
  },
  {
   "cell_type": "code",
   "execution_count": 8,
   "metadata": {},
   "outputs": [
    {
     "name": "stdout",
     "output_type": "stream",
     "text": [
      "Accuracy: 0.7435694499406411\n",
      "Confusion Matrix:\n",
      "[[1506   50  116   35   15]\n",
      " [ 274  335  100    9   14]\n",
      " [ 372   69  424   18   12]\n",
      " [  65    7   10  745    1]\n",
      " [  81   16   10   22  748]]\n"
     ]
    }
   ],
   "source": [
    "from sklearn.svm import SVC\n",
    "\n",
    "clf = SVC(kernel='linear')\n",
    "clf.fit(X_train, y_train)\n",
    "pred = clf.predict(X_test)\n",
    "\n",
    "acc = accuracy_score(y_test, pred)\n",
    "cnf = confusion_matrix(y_test, pred)\n",
    "accs.append(acc)\n",
    "print('Accuracy:', acc)\n",
    "print('Confusion Matrix:')\n",
    "print(cnf)"
   ]
  },
  {
   "cell_type": "markdown",
   "metadata": {
    "tags": []
   },
   "source": [
    "## multilayer perceptron"
   ]
  },
  {
   "cell_type": "code",
   "execution_count": 9,
   "metadata": {},
   "outputs": [
    {
     "name": "stdout",
     "output_type": "stream",
     "text": [
      "Accuracy: 0.7390185991294025\n",
      "Confusion Matrix:\n",
      "[[1414   92  175   36    5]\n",
      " [ 223  370  112   21    6]\n",
      " [ 304   99  464   23    5]\n",
      " [  45    4   14  761    4]\n",
      " [  72   15   34   30  726]]\n"
     ]
    }
   ],
   "source": [
    "from sklearn.neural_network import MLPClassifier\n",
    "\n",
    "clf = MLPClassifier(hidden_layer_sizes=(8,))\n",
    "clf.fit(X_train, y_train)\n",
    "pred = clf.predict(X_test)\n",
    "\n",
    "acc = accuracy_score(y_test, pred)\n",
    "cnf = confusion_matrix(y_test, pred)\n",
    "print('Accuracy:', acc)\n",
    "print('Confusion Matrix:')\n",
    "print(cnf)\n",
    "accs.append(acc)"
   ]
  },
  {
   "cell_type": "markdown",
   "metadata": {},
   "source": [
    "## Performance comparison"
   ]
  },
  {
   "cell_type": "code",
   "execution_count": 10,
   "metadata": {},
   "outputs": [
    {
     "name": "stdout",
     "output_type": "stream",
     "text": [
      "[0.7324891175306688, 0.7574198654531065, 0.7435694499406411, 0.7390185991294025]\n"
     ]
    },
    {
     "data": {
      "image/png": "[encoded data removed]",
      "text/plain": [
       "<Figure size 432x288 with 1 Axes>"
      ]
     },
     "metadata": {
      "needs_background": "light"
     },
     "output_type": "display_data"
    }
   ],
   "source": [
    "print(accs)\n",
    "plt.bar([1, 2, 3, 4], [x*100 for x in accs], 0.8, tick_label=['NB', 'LR', 'SVM', 'MLP'])\n",
    "plt.xlim(0, 5)\n",
    "plt.ylim(0, 100)\n",
    "plt.show()"
   ]
  },
  {
   "cell_type": "code",
   "execution_count": 11,
   "metadata": {},
   "outputs": [
    {
     "name": "stdout",
     "output_type": "stream",
     "text": [
      "Done...\n"
     ]
    }
   ],
   "source": [
    "f_vec = 'vectorizer.pkl'\n",
    "f_lr = 'svm.pkl'\n",
    "\n",
    "pickle.dump(vec, open(f_vec, 'wb'))\n",
    "svm = SVC(kernel='linear')\n",
    "svm.fit(X, y)\n",
    "pickle.dump(svm, open(f_lr, 'wb'))\n",
    "print('Done...')"
   ]
  },
  {
   "cell_type": "markdown",
   "metadata": {},
   "source": [
    "## Deep learning models\n",
    "## Importing tensorflow and keras for bulding RNNs and CNNs"
   ]
  },
  {
   "cell_type": "code",
   "execution_count": 12,
   "metadata": {},
   "outputs": [],
   "source": [
    "from tensorflow.keras.layers import Embedding, Input, LSTM, Dense, MaxPooling1D, GlobalMaxPooling1D, Dropout, GRU\n",
    "from tensorflow.keras.layers import Conv1D, Flatten,Bidirectional\n",
    "from tensorflow.keras.models import Model, load_model\n",
    "from tensorflow.keras import losses, optimizers\n",
    "\n",
    "from tensorflow.keras.preprocessing.text import Tokenizer\n",
    "from tensorflow.keras.utils import to_categorical\n",
    "from tensorflow.keras.activations import softmax\n",
    "from tensorflow.keras.preprocessing.sequence import pad_sequences"
   ]
  },
  {
   "cell_type": "markdown",
   "metadata": {},
   "source": [
    "### Used tokenizer to convert word sequences into corresponding number sequneces and padding to make all sequneces equal length"
   ]
  },
  {
   "cell_type": "code",
   "execution_count": 13,
   "metadata": {},
   "outputs": [
    {
     "name": "stdout",
     "output_type": "stream",
     "text": [
      "Total tokens: 23132\n"
     ]
    }
   ],
   "source": [
    "max_feautres = 10000\n",
    "tok = Tokenizer(num_words=max_feautres)\n",
    "tok.fit_on_texts(data.comment)\n",
    "print('Total tokens:', len(tok.word_index))\n",
    "\n",
    "seq_len = 100\n",
    "data['comment_seq'] = tok.texts_to_sequences(data.comment)\n",
    "X = pad_sequences(data.comment_seq, maxlen=seq_len)"
   ]
  },
  {
   "cell_type": "markdown",
   "metadata": {},
   "source": [
    "### Convert label to one hot encoding"
   ]
  },
  {
   "cell_type": "code",
   "execution_count": 14,
   "metadata": {},
   "outputs": [],
   "source": [
    "y = to_categorical(data.label, num_classes=N)"
   ]
  },
  {
   "cell_type": "markdown",
   "metadata": {},
   "source": [
    "### Train test split. 25% data used for testing"
   ]
  },
  {
   "cell_type": "code",
   "execution_count": 15,
   "metadata": {},
   "outputs": [],
   "source": [
    "X_train, X_test, y_train, y_test = train_test_split(X, y, test_size=0.25, random_state=100)"
   ]
  },
  {
   "cell_type": "markdown",
   "metadata": {},
   "source": [
    "### Neural network parameters"
   ]
  },
  {
   "cell_type": "code",
   "execution_count": 16,
   "metadata": {},
   "outputs": [],
   "source": [
    "emmbed_size = 32\n",
    "lstm_size = 64\n",
    "batch_size = 300\n",
    "n_layers = 2\n",
    "n_input = seq_len"
   ]
  },
  {
   "cell_type": "markdown",
   "metadata": {},
   "source": [
    "### RNN using lstm"
   ]
  },
  {
   "cell_type": "code",
   "execution_count": 17,
   "metadata": {},
   "outputs": [
    {
     "name": "stdout",
     "output_type": "stream",
     "text": [
      "Model: \"model\"\n",
      "_________________________________________________________________\n",
      " Layer (type)                Output Shape              Param #   \n",
      "=================================================================\n",
      " input_1 (InputLayer)        [(None, 100)]             0         \n",
      "                                                                 \n",
      " embedding (Embedding)       (None, 100, 32)           320000    \n",
      "                                                                 \n",
      " lstm (LSTM)                 (None, 100, 64)           24832     \n",
      "                                                                 \n",
      " dropout (Dropout)           (None, 100, 64)           0         \n",
      "                                                                 \n",
      " lstm_1 (LSTM)               (None, 100, 32)           12416     \n",
      "                                                                 \n",
      " dropout_1 (Dropout)         (None, 100, 32)           0         \n",
      "                                                                 \n",
      " flatten (Flatten)           (None, 3200)              0         \n",
      "                                                                 \n",
      " dense (Dense)               (None, 32)                102432    \n",
      "                                                                 \n",
      " dropout_2 (Dropout)         (None, 32)                0         \n",
      "                                                                 \n",
      " dense_1 (Dense)             (None, 5)                 165       \n",
      "                                                                 \n",
      "=================================================================\n",
      "Total params: 459,845\n",
      "Trainable params: 459,845\n",
      "Non-trainable params: 0\n",
      "_________________________________________________________________\n",
      "Epoch 1/50\n",
      "51/51 - 16s - loss: 1.5038 - accuracy: 0.3577 - val_loss: 1.3180 - val_accuracy: 0.4480 - 16s/epoch - 323ms/step\n",
      "Epoch 2/50\n",
      "51/51 - 13s - loss: 1.1109 - accuracy: 0.5190 - val_loss: 0.9613 - val_accuracy: 0.5805 - 13s/epoch - 261ms/step\n",
      "Epoch 3/50\n",
      "51/51 - 13s - loss: 0.8485 - accuracy: 0.6347 - val_loss: 0.8117 - val_accuracy: 0.6634 - 13s/epoch - 257ms/step\n",
      "Epoch 4/50\n",
      "51/51 - 14s - loss: 0.7020 - accuracy: 0.7107 - val_loss: 0.7735 - val_accuracy: 0.6961 - 14s/epoch - 265ms/step\n",
      "Epoch 5/50\n",
      "51/51 - 13s - loss: 0.6027 - accuracy: 0.7653 - val_loss: 0.7545 - val_accuracy: 0.7273 - 13s/epoch - 259ms/step\n",
      "Epoch 6/50\n",
      "51/51 - 13s - loss: 0.5414 - accuracy: 0.7995 - val_loss: 0.7412 - val_accuracy: 0.7398 - 13s/epoch - 258ms/step\n",
      "Epoch 7/50\n",
      "51/51 - 13s - loss: 0.4895 - accuracy: 0.8287 - val_loss: 0.7873 - val_accuracy: 0.7467 - 13s/epoch - 264ms/step\n",
      "Epoch 8/50\n",
      "51/51 - 13s - loss: 0.4448 - accuracy: 0.8435 - val_loss: 0.7188 - val_accuracy: 0.7564 - 13s/epoch - 264ms/step\n",
      "Epoch 9/50\n",
      "51/51 - 14s - loss: 0.4043 - accuracy: 0.8594 - val_loss: 0.7483 - val_accuracy: 0.7691 - 14s/epoch - 265ms/step\n",
      "Epoch 10/50\n",
      "51/51 - 13s - loss: 0.3679 - accuracy: 0.8735 - val_loss: 0.7673 - val_accuracy: 0.7766 - 13s/epoch - 260ms/step\n",
      "Epoch 11/50\n",
      "51/51 - 13s - loss: 0.3474 - accuracy: 0.8848 - val_loss: 0.7420 - val_accuracy: 0.7839 - 13s/epoch - 259ms/step\n",
      "Epoch 12/50\n",
      "51/51 - 13s - loss: 0.3087 - accuracy: 0.8953 - val_loss: 0.7050 - val_accuracy: 0.7901 - 13s/epoch - 257ms/step\n",
      "Epoch 13/50\n",
      "51/51 - 13s - loss: 0.2840 - accuracy: 0.9038 - val_loss: 0.7756 - val_accuracy: 0.7934 - 13s/epoch - 262ms/step\n",
      "Epoch 14/50\n",
      "51/51 - 14s - loss: 0.2637 - accuracy: 0.9092 - val_loss: 0.7834 - val_accuracy: 0.7974 - 14s/epoch - 275ms/step\n",
      "Epoch 15/50\n",
      "51/51 - 14s - loss: 0.2477 - accuracy: 0.9173 - val_loss: 0.7822 - val_accuracy: 0.8043 - 14s/epoch - 276ms/step\n",
      "Epoch 16/50\n",
      "51/51 - 15s - loss: 0.2336 - accuracy: 0.9184 - val_loss: 0.8026 - val_accuracy: 0.8015 - 15s/epoch - 285ms/step\n",
      "Epoch 17/50\n",
      "51/51 - 14s - loss: 0.2221 - accuracy: 0.9237 - val_loss: 0.8220 - val_accuracy: 0.8041 - 14s/epoch - 280ms/step\n",
      "Epoch 18/50\n",
      "51/51 - 14s - loss: 0.2104 - accuracy: 0.9291 - val_loss: 0.7580 - val_accuracy: 0.8104 - 14s/epoch - 277ms/step\n",
      "Epoch 19/50\n",
      "51/51 - 14s - loss: 0.1950 - accuracy: 0.9328 - val_loss: 0.8159 - val_accuracy: 0.8083 - 14s/epoch - 282ms/step\n",
      "Epoch 20/50\n",
      "51/51 - 15s - loss: 0.1915 - accuracy: 0.9331 - val_loss: 0.8487 - val_accuracy: 0.8126 - 15s/epoch - 294ms/step\n",
      "Epoch 21/50\n",
      "51/51 - 15s - loss: 0.1796 - accuracy: 0.9371 - val_loss: 0.8420 - val_accuracy: 0.8154 - 15s/epoch - 289ms/step\n",
      "Epoch 22/50\n",
      "51/51 - 14s - loss: 0.1755 - accuracy: 0.9383 - val_loss: 0.8542 - val_accuracy: 0.8101 - 14s/epoch - 280ms/step\n",
      "Epoch 23/50\n",
      "51/51 - 14s - loss: 0.1682 - accuracy: 0.9403 - val_loss: 0.8714 - val_accuracy: 0.8150 - 14s/epoch - 269ms/step\n",
      "Epoch 24/50\n",
      "51/51 - 13s - loss: 0.1581 - accuracy: 0.9435 - val_loss: 0.8888 - val_accuracy: 0.8154 - 13s/epoch - 261ms/step\n",
      "Epoch 25/50\n",
      "51/51 - 14s - loss: 0.1538 - accuracy: 0.9462 - val_loss: 0.9134 - val_accuracy: 0.8106 - 14s/epoch - 269ms/step\n",
      "Epoch 26/50\n",
      "51/51 - 15s - loss: 0.1494 - accuracy: 0.9476 - val_loss: 0.9494 - val_accuracy: 0.8166 - 15s/epoch - 288ms/step\n",
      "Epoch 27/50\n",
      "51/51 - 14s - loss: 0.1496 - accuracy: 0.9464 - val_loss: 0.9110 - val_accuracy: 0.8195 - 14s/epoch - 279ms/step\n",
      "Epoch 28/50\n",
      "51/51 - 14s - loss: 0.1417 - accuracy: 0.9488 - val_loss: 0.9802 - val_accuracy: 0.8073 - 14s/epoch - 268ms/step\n",
      "Epoch 29/50\n",
      "51/51 - 14s - loss: 0.1469 - accuracy: 0.9463 - val_loss: 0.8814 - val_accuracy: 0.8146 - 14s/epoch - 265ms/step\n",
      "Epoch 30/50\n",
      "51/51 - 14s - loss: 0.1433 - accuracy: 0.9481 - val_loss: 0.9077 - val_accuracy: 0.8192 - 14s/epoch - 284ms/step\n",
      "Epoch 31/50\n",
      "51/51 - 15s - loss: 0.1376 - accuracy: 0.9478 - val_loss: 0.9402 - val_accuracy: 0.8116 - 15s/epoch - 292ms/step\n",
      "Epoch 32/50\n",
      "51/51 - 14s - loss: 0.1288 - accuracy: 0.9522 - val_loss: 0.9848 - val_accuracy: 0.8142 - 14s/epoch - 276ms/step\n",
      "Epoch 33/50\n",
      "51/51 - 13s - loss: 0.1292 - accuracy: 0.9531 - val_loss: 1.0542 - val_accuracy: 0.8101 - 13s/epoch - 262ms/step\n",
      "Epoch 34/50\n",
      "51/51 - 13s - loss: 0.1260 - accuracy: 0.9523 - val_loss: 1.0186 - val_accuracy: 0.8148 - 13s/epoch - 263ms/step\n",
      "Epoch 35/50\n",
      "51/51 - 13s - loss: 0.1283 - accuracy: 0.9524 - val_loss: 0.9975 - val_accuracy: 0.8166 - 13s/epoch - 260ms/step\n",
      "Epoch 36/50\n",
      "51/51 - 13s - loss: 0.1262 - accuracy: 0.9539 - val_loss: 1.0156 - val_accuracy: 0.8154 - 13s/epoch - 260ms/step\n",
      "Epoch 37/50\n",
      "51/51 - 13s - loss: 0.1241 - accuracy: 0.9528 - val_loss: 1.0828 - val_accuracy: 0.8142 - 13s/epoch - 260ms/step\n",
      "Epoch 38/50\n",
      "51/51 - 13s - loss: 0.1187 - accuracy: 0.9540 - val_loss: 1.1025 - val_accuracy: 0.8186 - 13s/epoch - 260ms/step\n",
      "Epoch 39/50\n",
      "51/51 - 14s - loss: 0.1164 - accuracy: 0.9548 - val_loss: 1.1249 - val_accuracy: 0.8172 - 14s/epoch - 284ms/step\n",
      "Epoch 40/50\n",
      "51/51 - 14s - loss: 0.1140 - accuracy: 0.9557 - val_loss: 1.1500 - val_accuracy: 0.8170 - 14s/epoch - 270ms/step\n",
      "Epoch 41/50\n",
      "51/51 - 14s - loss: 0.1106 - accuracy: 0.9571 - val_loss: 1.1930 - val_accuracy: 0.8140 - 14s/epoch - 268ms/step\n",
      "Epoch 42/50\n",
      "51/51 - 14s - loss: 0.1089 - accuracy: 0.9581 - val_loss: 1.1850 - val_accuracy: 0.8160 - 14s/epoch - 267ms/step\n",
      "Epoch 43/50\n",
      "51/51 - 13s - loss: 0.1087 - accuracy: 0.9576 - val_loss: 1.1436 - val_accuracy: 0.8120 - 13s/epoch - 260ms/step\n",
      "Epoch 44/50\n",
      "51/51 - 13s - loss: 0.1054 - accuracy: 0.9591 - val_loss: 1.1771 - val_accuracy: 0.8124 - 13s/epoch - 260ms/step\n",
      "Epoch 45/50\n",
      "51/51 - 13s - loss: 0.1109 - accuracy: 0.9571 - val_loss: 1.1838 - val_accuracy: 0.8122 - 13s/epoch - 258ms/step\n",
      "Epoch 46/50\n",
      "51/51 - 14s - loss: 0.1089 - accuracy: 0.9581 - val_loss: 1.1750 - val_accuracy: 0.8104 - 14s/epoch - 266ms/step\n",
      "Epoch 47/50\n",
      "51/51 - 14s - loss: 0.1066 - accuracy: 0.9581 - val_loss: 1.2496 - val_accuracy: 0.8164 - 14s/epoch - 265ms/step\n",
      "Epoch 48/50\n",
      "51/51 - 13s - loss: 0.1054 - accuracy: 0.9580 - val_loss: 1.2359 - val_accuracy: 0.8174 - 13s/epoch - 259ms/step\n",
      "Epoch 49/50\n",
      "51/51 - 13s - loss: 0.1001 - accuracy: 0.9608 - val_loss: 1.2880 - val_accuracy: 0.8197 - 13s/epoch - 258ms/step\n",
      "Epoch 50/50\n",
      "51/51 - 13s - loss: 0.0963 - accuracy: 0.9604 - val_loss: 1.2662 - val_accuracy: 0.8099 - 13s/epoch - 260ms/step\n"
     ]
    },
    {
     "data": {
      "text/plain": [
       "<keras.callbacks.History at 0x16f0c70ba90>"
      ]
     },
     "execution_count": 17,
     "metadata": {},
     "output_type": "execute_result"
    }
   ],
   "source": [
    "inp = Input(shape=(n_input, ))\n",
    "x = Embedding(max_feautres, emmbed_size, input_length=n_input)(inp)\n",
    "for layer in range(n_layers):\n",
    "    x = LSTM(lstm_size // (layer+1), return_sequences=True)(x)\n",
    "    x = Dropout(0.2)(x)\n",
    "x = Flatten()(x)\n",
    "x = Dense(32, activation='relu')(x)\n",
    "x = Dropout(0.2)(x)\n",
    "x = Dense(5, activation='softmax')(x)\n",
    "\n",
    "model = Model(inputs=inp, outputs=x)\n",
    "model.summary()\n",
    "\n",
    "model.compile(loss=losses.categorical_crossentropy, optimizer='adam', metrics=['accuracy'])\n",
    "model.fit(X_train, y_train, epochs = 50, batch_size=batch_size, validation_data=(X_test, y_test), verbose=2, shuffle=True)"
   ]
  },
  {
   "cell_type": "markdown",
   "metadata": {},
   "source": [
    "### Performance of RNN"
   ]
  },
  {
   "cell_type": "code",
   "execution_count": 18,
   "metadata": {},
   "outputs": [
    {
     "name": "stdout",
     "output_type": "stream",
     "text": [
      "RNN: 0.8098535813217254\n",
      "[[1299   50  287   28   17]\n",
      " [  52  560  111    8    0]\n",
      " [ 200   85  623    8    4]\n",
      " [  11    5    8  840    7]\n",
      " [  22    9   27   22  771]]\n"
     ]
    }
   ],
   "source": [
    "pred = model.predict(X_test)\n",
    "pred = np.argmax(pred, axis=1)\n",
    "y_tmp = np.argmax(y_test, axis=1)\n",
    "rnnAc = accuracy_score(y_tmp, pred)\n",
    "cnf = confusion_matrix(y_tmp, pred)\n",
    "\n",
    "print('RNN:', rnnAc)\n",
    "print(cnf)\n",
    "accs.append(rnnAc)"
   ]
  },
  {
   "cell_type": "markdown",
   "metadata": {},
   "source": [
    "### 1 dimensional CVV"
   ]
  },
  {
   "cell_type": "code",
   "execution_count": 19,
   "metadata": {},
   "outputs": [
    {
     "name": "stdout",
     "output_type": "stream",
     "text": [
      "Model: \"model_1\"\n",
      "_________________________________________________________________\n",
      " Layer (type)                Output Shape              Param #   \n",
      "=================================================================\n",
      " input_2 (InputLayer)        [(None, 100)]             0         \n",
      "                                                                 \n",
      " embedding_1 (Embedding)     (None, 100, 32)           320000    \n",
      "                                                                 \n",
      " conv1d (Conv1D)             (None, 96, 32)            5152      \n",
      "                                                                 \n",
      " max_pooling1d (MaxPooling1D  (None, 48, 32)           0         \n",
      " )                                                               \n",
      "                                                                 \n",
      " dropout_3 (Dropout)         (None, 48, 32)            0         \n",
      "                                                                 \n",
      " conv1d_1 (Conv1D)           (None, 39, 15)            4815      \n",
      "                                                                 \n",
      " max_pooling1d_1 (MaxPooling  (None, 7, 15)            0         \n",
      " 1D)                                                             \n",
      "                                                                 \n",
      " dropout_4 (Dropout)         (None, 7, 15)             0         \n",
      "                                                                 \n",
      " flatten_1 (Flatten)         (None, 105)               0         \n",
      "                                                                 \n",
      " dense_2 (Dense)             (None, 32)                3392      \n",
      "                                                                 \n",
      " dropout_5 (Dropout)         (None, 32)                0         \n",
      "                                                                 \n",
      " dense_3 (Dense)             (None, 5)                 165       \n",
      "                                                                 \n",
      "=================================================================\n",
      "Total params: 333,524\n",
      "Trainable params: 333,524\n",
      "Non-trainable params: 0\n",
      "_________________________________________________________________\n",
      "Epoch 1/50\n",
      "51/51 - 2s - loss: 1.5750 - accuracy: 0.3040 - val_loss: 1.5550 - val_accuracy: 0.3332 - 2s/epoch - 46ms/step\n",
      "Epoch 2/50\n",
      "51/51 - 2s - loss: 1.5479 - accuracy: 0.3389 - val_loss: 1.4779 - val_accuracy: 0.3886 - 2s/epoch - 34ms/step\n",
      "Epoch 3/50\n",
      "51/51 - 2s - loss: 1.4255 - accuracy: 0.4072 - val_loss: 1.3269 - val_accuracy: 0.4511 - 2s/epoch - 34ms/step\n",
      "Epoch 4/50\n",
      "51/51 - 2s - loss: 1.2997 - accuracy: 0.4646 - val_loss: 1.2571 - val_accuracy: 0.5022 - 2s/epoch - 34ms/step\n",
      "Epoch 5/50\n",
      "51/51 - 2s - loss: 1.2173 - accuracy: 0.5065 - val_loss: 1.2329 - val_accuracy: 0.5063 - 2s/epoch - 34ms/step\n",
      "Epoch 6/50\n",
      "51/51 - 2s - loss: 1.1729 - accuracy: 0.5222 - val_loss: 1.2209 - val_accuracy: 0.5188 - 2s/epoch - 34ms/step\n",
      "Epoch 7/50\n",
      "51/51 - 2s - loss: 1.1450 - accuracy: 0.5317 - val_loss: 1.2278 - val_accuracy: 0.5194 - 2s/epoch - 34ms/step\n",
      "Epoch 8/50\n",
      "51/51 - 2s - loss: 1.1269 - accuracy: 0.5346 - val_loss: 1.2244 - val_accuracy: 0.5245 - 2s/epoch - 34ms/step\n",
      "Epoch 9/50\n",
      "51/51 - 2s - loss: 1.1067 - accuracy: 0.5408 - val_loss: 1.2258 - val_accuracy: 0.5253 - 2s/epoch - 34ms/step\n",
      "Epoch 10/50\n",
      "51/51 - 2s - loss: 1.0971 - accuracy: 0.5449 - val_loss: 1.2299 - val_accuracy: 0.5283 - 2s/epoch - 35ms/step\n",
      "Epoch 11/50\n",
      "51/51 - 2s - loss: 1.0873 - accuracy: 0.5505 - val_loss: 1.2353 - val_accuracy: 0.5378 - 2s/epoch - 37ms/step\n",
      "Epoch 12/50\n",
      "51/51 - 2s - loss: 1.0786 - accuracy: 0.5569 - val_loss: 1.2303 - val_accuracy: 0.5400 - 2s/epoch - 34ms/step\n",
      "Epoch 13/50\n",
      "51/51 - 2s - loss: 1.0692 - accuracy: 0.5603 - val_loss: 1.2261 - val_accuracy: 0.5412 - 2s/epoch - 34ms/step\n",
      "Epoch 14/50\n",
      "51/51 - 2s - loss: 1.0595 - accuracy: 0.5657 - val_loss: 1.2261 - val_accuracy: 0.5451 - 2s/epoch - 34ms/step\n",
      "Epoch 15/50\n",
      "51/51 - 2s - loss: 1.0514 - accuracy: 0.5672 - val_loss: 1.2327 - val_accuracy: 0.5491 - 2s/epoch - 34ms/step\n",
      "Epoch 16/50\n",
      "51/51 - 2s - loss: 1.0460 - accuracy: 0.5714 - val_loss: 1.2397 - val_accuracy: 0.5505 - 2s/epoch - 34ms/step\n",
      "Epoch 17/50\n",
      "51/51 - 2s - loss: 1.0355 - accuracy: 0.5765 - val_loss: 1.2390 - val_accuracy: 0.5512 - 2s/epoch - 34ms/step\n",
      "Epoch 18/50\n",
      "51/51 - 2s - loss: 1.0331 - accuracy: 0.5790 - val_loss: 1.2457 - val_accuracy: 0.5520 - 2s/epoch - 34ms/step\n",
      "Epoch 19/50\n",
      "51/51 - 2s - loss: 1.0237 - accuracy: 0.5805 - val_loss: 1.2488 - val_accuracy: 0.5546 - 2s/epoch - 34ms/step\n",
      "Epoch 20/50\n",
      "51/51 - 2s - loss: 1.0238 - accuracy: 0.5822 - val_loss: 1.2557 - val_accuracy: 0.5526 - 2s/epoch - 34ms/step\n",
      "Epoch 21/50\n",
      "51/51 - 2s - loss: 1.0144 - accuracy: 0.5863 - val_loss: 1.2713 - val_accuracy: 0.5552 - 2s/epoch - 34ms/step\n",
      "Epoch 22/50\n",
      "51/51 - 2s - loss: 1.0137 - accuracy: 0.5860 - val_loss: 1.2780 - val_accuracy: 0.5552 - 2s/epoch - 34ms/step\n",
      "Epoch 23/50\n",
      "51/51 - 2s - loss: 1.0073 - accuracy: 0.5892 - val_loss: 1.2918 - val_accuracy: 0.5542 - 2s/epoch - 34ms/step\n",
      "Epoch 24/50\n",
      "51/51 - 2s - loss: 1.0022 - accuracy: 0.5903 - val_loss: 1.2981 - val_accuracy: 0.5560 - 2s/epoch - 34ms/step\n",
      "Epoch 25/50\n",
      "51/51 - 2s - loss: 1.0011 - accuracy: 0.5910 - val_loss: 1.3101 - val_accuracy: 0.5564 - 2s/epoch - 36ms/step\n",
      "Epoch 26/50\n",
      "51/51 - 2s - loss: 0.9990 - accuracy: 0.5915 - val_loss: 1.3246 - val_accuracy: 0.5550 - 2s/epoch - 35ms/step\n",
      "Epoch 27/50\n",
      "51/51 - 2s - loss: 0.9981 - accuracy: 0.5927 - val_loss: 1.3294 - val_accuracy: 0.5554 - 2s/epoch - 34ms/step\n",
      "Epoch 28/50\n",
      "51/51 - 2s - loss: 0.9972 - accuracy: 0.5932 - val_loss: 1.3350 - val_accuracy: 0.5564 - 2s/epoch - 34ms/step\n",
      "Epoch 29/50\n",
      "51/51 - 2s - loss: 0.9942 - accuracy: 0.5942 - val_loss: 1.3446 - val_accuracy: 0.5568 - 2s/epoch - 34ms/step\n",
      "Epoch 30/50\n",
      "51/51 - 2s - loss: 0.9929 - accuracy: 0.5952 - val_loss: 1.3515 - val_accuracy: 0.5578 - 2s/epoch - 34ms/step\n",
      "Epoch 31/50\n",
      "51/51 - 2s - loss: 0.9910 - accuracy: 0.5953 - val_loss: 1.3526 - val_accuracy: 0.5564 - 2s/epoch - 34ms/step\n",
      "Epoch 32/50\n",
      "51/51 - 2s - loss: 0.9878 - accuracy: 0.5958 - val_loss: 1.3728 - val_accuracy: 0.5592 - 2s/epoch - 34ms/step\n",
      "Epoch 33/50\n",
      "51/51 - 2s - loss: 0.9868 - accuracy: 0.5959 - val_loss: 1.3688 - val_accuracy: 0.5574 - 2s/epoch - 34ms/step\n",
      "Epoch 34/50\n",
      "51/51 - 2s - loss: 0.9872 - accuracy: 0.5972 - val_loss: 1.3791 - val_accuracy: 0.5566 - 2s/epoch - 34ms/step\n",
      "Epoch 35/50\n",
      "51/51 - 2s - loss: 0.9820 - accuracy: 0.5977 - val_loss: 1.3862 - val_accuracy: 0.5584 - 2s/epoch - 34ms/step\n",
      "Epoch 36/50\n",
      "51/51 - 2s - loss: 0.9868 - accuracy: 0.5976 - val_loss: 1.3819 - val_accuracy: 0.5594 - 2s/epoch - 35ms/step\n",
      "Epoch 37/50\n",
      "51/51 - 2s - loss: 0.9822 - accuracy: 0.5978 - val_loss: 1.3816 - val_accuracy: 0.5607 - 2s/epoch - 34ms/step\n",
      "Epoch 38/50\n",
      "51/51 - 2s - loss: 0.9836 - accuracy: 0.5978 - val_loss: 1.3832 - val_accuracy: 0.5594 - 2s/epoch - 34ms/step\n",
      "Epoch 39/50\n",
      "51/51 - 2s - loss: 0.9832 - accuracy: 0.5987 - val_loss: 1.3858 - val_accuracy: 0.5582 - 2s/epoch - 34ms/step\n",
      "Epoch 40/50\n",
      "51/51 - 2s - loss: 0.9804 - accuracy: 0.5989 - val_loss: 1.3958 - val_accuracy: 0.5582 - 2s/epoch - 34ms/step\n",
      "Epoch 41/50\n",
      "51/51 - 2s - loss: 0.9808 - accuracy: 0.5977 - val_loss: 1.3994 - val_accuracy: 0.5590 - 2s/epoch - 34ms/step\n",
      "Epoch 42/50\n",
      "51/51 - 2s - loss: 0.9796 - accuracy: 0.5989 - val_loss: 1.4053 - val_accuracy: 0.5596 - 2s/epoch - 34ms/step\n",
      "Epoch 43/50\n",
      "51/51 - 2s - loss: 0.9757 - accuracy: 0.6001 - val_loss: 1.4076 - val_accuracy: 0.5594 - 2s/epoch - 34ms/step\n",
      "Epoch 44/50\n",
      "51/51 - 2s - loss: 0.9751 - accuracy: 0.5997 - val_loss: 1.4193 - val_accuracy: 0.5586 - 2s/epoch - 34ms/step\n",
      "Epoch 45/50\n",
      "51/51 - 2s - loss: 0.9803 - accuracy: 0.5985 - val_loss: 1.4146 - val_accuracy: 0.5594 - 2s/epoch - 34ms/step\n",
      "Epoch 46/50\n",
      "51/51 - 2s - loss: 0.9760 - accuracy: 0.6003 - val_loss: 1.4358 - val_accuracy: 0.5582 - 2s/epoch - 34ms/step\n",
      "Epoch 47/50\n",
      "51/51 - 2s - loss: 0.9762 - accuracy: 0.5991 - val_loss: 1.4429 - val_accuracy: 0.5592 - 2s/epoch - 34ms/step\n",
      "Epoch 48/50\n",
      "51/51 - 2s - loss: 0.9747 - accuracy: 0.6001 - val_loss: 1.4468 - val_accuracy: 0.5596 - 2s/epoch - 35ms/step\n",
      "Epoch 49/50\n",
      "51/51 - 2s - loss: 0.9763 - accuracy: 0.5991 - val_loss: 1.4444 - val_accuracy: 0.5600 - 2s/epoch - 36ms/step\n",
      "Epoch 50/50\n",
      "51/51 - 2s - loss: 0.9768 - accuracy: 0.6003 - val_loss: 1.4475 - val_accuracy: 0.5590 - 2s/epoch - 34ms/step\n"
     ]
    },
    {
     "data": {
      "text/plain": [
       "<keras.callbacks.History at 0x16f0d3cdc70>"
      ]
     },
     "execution_count": 19,
     "metadata": {},
     "output_type": "execute_result"
    }
   ],
   "source": [
    "inp = Input(shape=(n_input, ))\n",
    "x = Embedding(max_feautres, emmbed_size, input_length=n_input)(inp)\n",
    "x = Conv1D(32, 5, strides=1)(x)\n",
    "x = MaxPooling1D(pool_size=2)(x)\n",
    "x = Dropout(0.2)(x)\n",
    "x = Conv1D(15, 10, strides=1)(x)\n",
    "x = MaxPooling1D(pool_size=5)(x)\n",
    "x = Dropout(0.2)(x)\n",
    "x = Flatten()(x)\n",
    "x = Dense(32, activation='relu')(x)\n",
    "x = Dropout(0.2)(x)\n",
    "x = Dense(5, activation='softmax')(x)\n",
    "\n",
    "model = Model(inputs=inp, outputs=x)\n",
    "model.summary()\n",
    "\n",
    "model.compile(loss=losses.categorical_crossentropy, optimizer='adam', metrics=['accuracy'])\n",
    "model.fit(X_train, y_train, epochs = 50, batch_size=batch_size, validation_data=(X_test, y_test), verbose=2, shuffle=True)"
   ]
  },
  {
   "cell_type": "markdown",
   "metadata": {},
   "source": [
    "### Performance of CNN"
   ]
  },
  {
   "cell_type": "code",
   "execution_count": 20,
   "metadata": {},
   "outputs": [
    {
     "name": "stdout",
     "output_type": "stream",
     "text": [
      "CNN: 0.5589631974673526\n",
      "[[1596   13   43   17   12]\n",
      " [ 605  100   11    7    8]\n",
      " [ 783   21   99    8    9]\n",
      " [ 442    0    2  427    0]\n",
      " [ 194    7   27   20  603]]\n"
     ]
    }
   ],
   "source": [
    "pred = model.predict(X_test)\n",
    "pred = np.argmax(pred, axis=1)\n",
    "y_tmp = np.argmax(y_test, axis=1)\n",
    "cnnAc = accuracy_score(y_tmp, pred)\n",
    "cnf = confusion_matrix(y_tmp, pred)\n",
    "\n",
    "print('CNN:', cnnAc)\n",
    "print(cnf)\n",
    "accs.append(cnnAc)"
   ]
  },
  {
   "cell_type": "markdown",
   "metadata": {},
   "source": [
    "### CNN and RNN combined model"
   ]
  },
  {
   "cell_type": "code",
   "execution_count": 21,
   "metadata": {},
   "outputs": [
    {
     "name": "stdout",
     "output_type": "stream",
     "text": [
      "Model: \"model_2\"\n",
      "_________________________________________________________________\n",
      " Layer (type)                Output Shape              Param #   \n",
      "=================================================================\n",
      " input_3 (InputLayer)        [(None, 100)]             0         \n",
      "                                                                 \n",
      " embedding_2 (Embedding)     (None, 100, 32)           320000    \n",
      "                                                                 \n",
      " lstm_2 (LSTM)               (None, 100, 32)           8320      \n",
      "                                                                 \n",
      " dropout_6 (Dropout)         (None, 100, 32)           0         \n",
      "                                                                 \n",
      " conv1d_2 (Conv1D)           (None, 96, 32)            5152      \n",
      "                                                                 \n",
      " max_pooling1d_2 (MaxPooling  (None, 32, 32)           0         \n",
      " 1D)                                                             \n",
      "                                                                 \n",
      " dropout_7 (Dropout)         (None, 32, 32)            0         \n",
      "                                                                 \n",
      " flatten_2 (Flatten)         (None, 1024)              0         \n",
      "                                                                 \n",
      " dense_4 (Dense)             (None, 32)                32800     \n",
      "                                                                 \n",
      " dropout_8 (Dropout)         (None, 32)                0         \n",
      "                                                                 \n",
      " dense_5 (Dense)             (None, 5)                 165       \n",
      "                                                                 \n",
      "=================================================================\n",
      "Total params: 366,437\n",
      "Trainable params: 366,437\n",
      "Non-trainable params: 0\n",
      "_________________________________________________________________\n",
      "Epoch 1/30\n",
      "51/51 - 8s - loss: 1.5222 - accuracy: 0.3470 - val_loss: 1.3518 - val_accuracy: 0.4296 - 8s/epoch - 159ms/step\n",
      "Epoch 2/30\n",
      "51/51 - 7s - loss: 1.1559 - accuracy: 0.4905 - val_loss: 0.9682 - val_accuracy: 0.5888 - 7s/epoch - 130ms/step\n",
      "Epoch 3/30\n",
      "51/51 - 6s - loss: 0.8744 - accuracy: 0.6245 - val_loss: 0.8364 - val_accuracy: 0.6518 - 6s/epoch - 116ms/step\n",
      "Epoch 4/30\n",
      "51/51 - 6s - loss: 0.7263 - accuracy: 0.6893 - val_loss: 0.7857 - val_accuracy: 0.6898 - 6s/epoch - 116ms/step\n",
      "Epoch 5/30\n",
      "51/51 - 6s - loss: 0.6365 - accuracy: 0.7280 - val_loss: 0.7665 - val_accuracy: 0.7066 - 6s/epoch - 115ms/step\n",
      "Epoch 6/30\n",
      "51/51 - 6s - loss: 0.5898 - accuracy: 0.7557 - val_loss: 0.7995 - val_accuracy: 0.7173 - 6s/epoch - 120ms/step\n",
      "Epoch 7/30\n",
      "51/51 - 6s - loss: 0.5393 - accuracy: 0.7817 - val_loss: 0.7803 - val_accuracy: 0.7285 - 6s/epoch - 118ms/step\n",
      "Epoch 8/30\n",
      "51/51 - 6s - loss: 0.5031 - accuracy: 0.8032 - val_loss: 0.7909 - val_accuracy: 0.7353 - 6s/epoch - 115ms/step\n",
      "Epoch 9/30\n",
      "51/51 - 6s - loss: 0.4800 - accuracy: 0.8179 - val_loss: 0.8164 - val_accuracy: 0.7349 - 6s/epoch - 115ms/step\n",
      "Epoch 10/30\n",
      "51/51 - 6s - loss: 0.4582 - accuracy: 0.8315 - val_loss: 0.8116 - val_accuracy: 0.7448 - 6s/epoch - 114ms/step\n",
      "Epoch 11/30\n",
      "51/51 - 6s - loss: 0.4246 - accuracy: 0.8453 - val_loss: 0.8178 - val_accuracy: 0.7556 - 6s/epoch - 114ms/step\n",
      "Epoch 12/30\n",
      "51/51 - 6s - loss: 0.4090 - accuracy: 0.8563 - val_loss: 0.8361 - val_accuracy: 0.7626 - 6s/epoch - 113ms/step\n",
      "Epoch 13/30\n",
      "51/51 - 6s - loss: 0.3865 - accuracy: 0.8650 - val_loss: 0.8568 - val_accuracy: 0.7683 - 6s/epoch - 114ms/step\n",
      "Epoch 14/30\n",
      "51/51 - 6s - loss: 0.3692 - accuracy: 0.8741 - val_loss: 0.8771 - val_accuracy: 0.7618 - 6s/epoch - 114ms/step\n",
      "Epoch 15/30\n",
      "51/51 - 6s - loss: 0.3636 - accuracy: 0.8753 - val_loss: 0.8985 - val_accuracy: 0.7651 - 6s/epoch - 114ms/step\n",
      "Epoch 16/30\n",
      "51/51 - 6s - loss: 0.3551 - accuracy: 0.8797 - val_loss: 0.8876 - val_accuracy: 0.7669 - 6s/epoch - 114ms/step\n",
      "Epoch 17/30\n",
      "51/51 - 6s - loss: 0.3336 - accuracy: 0.8863 - val_loss: 0.9446 - val_accuracy: 0.7756 - 6s/epoch - 114ms/step\n",
      "Epoch 18/30\n",
      "51/51 - 6s - loss: 0.3171 - accuracy: 0.8933 - val_loss: 0.9272 - val_accuracy: 0.7794 - 6s/epoch - 115ms/step\n",
      "Epoch 19/30\n",
      "51/51 - 6s - loss: 0.2984 - accuracy: 0.9022 - val_loss: 0.9536 - val_accuracy: 0.7764 - 6s/epoch - 114ms/step\n",
      "Epoch 20/30\n",
      "51/51 - 6s - loss: 0.2897 - accuracy: 0.9011 - val_loss: 0.9650 - val_accuracy: 0.7855 - 6s/epoch - 114ms/step\n",
      "Epoch 21/30\n",
      "51/51 - 6s - loss: 0.2761 - accuracy: 0.9082 - val_loss: 0.9668 - val_accuracy: 0.7875 - 6s/epoch - 114ms/step\n",
      "Epoch 22/30\n",
      "51/51 - 6s - loss: 0.2671 - accuracy: 0.9085 - val_loss: 1.0124 - val_accuracy: 0.7909 - 6s/epoch - 114ms/step\n",
      "Epoch 23/30\n",
      "51/51 - 6s - loss: 0.2597 - accuracy: 0.9125 - val_loss: 1.0071 - val_accuracy: 0.7824 - 6s/epoch - 114ms/step\n",
      "Epoch 24/30\n",
      "51/51 - 6s - loss: 0.2537 - accuracy: 0.9129 - val_loss: 1.0221 - val_accuracy: 0.7928 - 6s/epoch - 114ms/step\n",
      "Epoch 25/30\n",
      "51/51 - 6s - loss: 0.2462 - accuracy: 0.9169 - val_loss: 1.0737 - val_accuracy: 0.7883 - 6s/epoch - 114ms/step\n",
      "Epoch 26/30\n",
      "51/51 - 6s - loss: 0.2334 - accuracy: 0.9193 - val_loss: 1.0508 - val_accuracy: 0.7930 - 6s/epoch - 114ms/step\n",
      "Epoch 27/30\n",
      "51/51 - 6s - loss: 0.2218 - accuracy: 0.9228 - val_loss: 1.1115 - val_accuracy: 0.7982 - 6s/epoch - 115ms/step\n",
      "Epoch 28/30\n",
      "51/51 - 6s - loss: 0.2166 - accuracy: 0.9250 - val_loss: 1.0869 - val_accuracy: 0.7952 - 6s/epoch - 114ms/step\n",
      "Epoch 29/30\n",
      "51/51 - 6s - loss: 0.2096 - accuracy: 0.9266 - val_loss: 1.1330 - val_accuracy: 0.7944 - 6s/epoch - 115ms/step\n",
      "Epoch 30/30\n",
      "51/51 - 6s - loss: 0.1982 - accuracy: 0.9309 - val_loss: 1.1341 - val_accuracy: 0.7956 - 6s/epoch - 114ms/step\n"
     ]
    },
    {
     "data": {
      "text/plain": [
       "<keras.callbacks.History at 0x16f0da4e4f0>"
      ]
     },
     "execution_count": 21,
     "metadata": {},
     "output_type": "execute_result"
    }
   ],
   "source": [
    "inp = Input(shape=(n_input, ))\n",
    "x = Embedding(max_feautres, emmbed_size, input_length=n_input)(inp)\n",
    "for _ in range(1):\n",
    "    x = LSTM(32, return_sequences=True)(x)\n",
    "    x = Dropout(0.2)(x)\n",
    "x = Conv1D(32, 5, strides=1)(x)\n",
    "x = MaxPooling1D(pool_size=3)(x)\n",
    "x = Dropout(0.2)(x)\n",
    "x = Flatten()(x)\n",
    "x = Dense(32, activation='relu')(x)\n",
    "x = Dropout(0.2)(x)\n",
    "x = Dense(5, activation='softmax')(x)\n",
    "\n",
    "model = Model(inputs=inp, outputs=x)\n",
    "model.summary()\n",
    "\n",
    "model.compile(loss=losses.categorical_crossentropy, optimizer='adam', metrics=['accuracy'])\n",
    "model.fit(X_train, y_train, epochs = 30, batch_size=batch_size, validation_data=(X_test, y_test), verbose=2, shuffle=True)"
   ]
  },
  {
   "cell_type": "markdown",
   "metadata": {},
   "source": [
    "### Performance of RCNN"
   ]
  },
  {
   "cell_type": "code",
   "execution_count": 22,
   "metadata": {},
   "outputs": [
    {
     "name": "stdout",
     "output_type": "stream",
     "text": [
      "RCNN: 0.795607439651761\n",
      "[[1300   55  282   36    8]\n",
      " [  55  533  120   20    3]\n",
      " [ 208  104  584   22    2]\n",
      " [  18    9    5  839    0]\n",
      " [  13   17   10   46  765]]\n"
     ]
    }
   ],
   "source": [
    "pred = model.predict(X_test)\n",
    "pred = np.argmax(pred, axis=1)\n",
    "y_tmp = np.argmax(y_test, axis=1)\n",
    "rnnCnnAc = accuracy_score(y_tmp, pred)\n",
    "cnf = confusion_matrix(y_tmp, pred)\n",
    "\n",
    "print('RCNN:', rnnCnnAc)\n",
    "print(cnf)\n",
    "accs.append(rnnCnnAc)"
   ]
  },
  {
   "cell_type": "markdown",
   "metadata": {},
   "source": [
    "### Comparison"
   ]
  },
  {
   "cell_type": "code",
   "execution_count": 33,
   "metadata": {},
   "outputs": [
    {
     "data": {
      "image/png": "[encoded data removed]",
      "text/plain": [
       "<Figure size 720x432 with 1 Axes>"
      ]
     },
     "metadata": {
      "needs_background": "light"
     },
     "output_type": "display_data"
    }
   ],
   "source": [
    "plt.figure(figsize=(10,6))\n",
    "plt.title('Accuracy comparison of various algorithms')\n",
    "plt.ylabel('Accuracy')\n",
    "plt.bar(np.arange(len(accs)), [x*100 for x in accs], 0.8, tick_label=['NB', 'LR', 'SVM', 'MLP', 'RNN', 'CNN', 'RCNN'])\n",
    "plt.ylim(0, 100)\n",
    "plt.xlim(-1, 7)\n",
    "for index, countData in enumerate(accs):\n",
    "    plt.text(x=index-0.3, y=countData*100+2, s=f\"{round(countData, 2)}\", fontdict=dict(fontsize=16))\n",
    "plt.show()"
   ]
  }
 ],
 "metadata": {
  "kernelspec": {
   "display_name": "Python 3 (ipykernel)",
   "language": "python",
   "name": "python3"
  },
  "language_info": {
   "codemirror_mode": {
    "name": "ipython",
    "version": 3
   },
   "file_extension": ".py",
   "mimetype": "text/x-python",
   "name": "python",
   "nbconvert_exporter": "python",
   "pygments_lexer": "ipython3",
   "version": "3.8.0"
  }
 },
 "nbformat": 4,
 "nbformat_minor": 4
}
